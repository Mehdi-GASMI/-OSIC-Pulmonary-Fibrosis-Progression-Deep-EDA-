{
 "cells": [
  {
   "cell_type": "code",
   "execution_count": 1,
   "metadata": {
    "_cell_guid": "b1076dfc-b9ad-4769-8c92-a6c4dae69d19",
    "_uuid": "8f2839f25d086af736a60e9eeb907d3b93b6e0e5",
    "execution": {
     "iopub.execute_input": "2020-08-29T18:01:24.064720Z",
     "iopub.status.busy": "2020-08-29T18:01:24.064054Z",
     "iopub.status.idle": "2020-08-29T18:01:25.261851Z",
     "shell.execute_reply": "2020-08-29T18:01:25.261077Z"
    },
    "papermill": {
     "duration": 1.215001,
     "end_time": "2020-08-29T18:01:25.261976",
     "exception": false,
     "start_time": "2020-08-29T18:01:24.046975",
     "status": "completed"
    },
    "tags": []
   },
   "outputs": [],
   "source": [
    "import numpy as np\n",
    "import pandas as pd\n",
    "from tqdm.notebook import tqdm \n",
    "import gc\n",
    "import glob, os\n",
    "import pydicom\n",
    "from PIL import Image\n",
    "import matplotlib.pyplot as plt\n",
    "import lightgbm as lgb\n",
    "from sklearn.decomposition import PCA\n",
    "from bayes_opt import BayesianOptimization\n",
    "from sklearn.preprocessing import MinMaxScaler\n",
    "from sklearn.decomposition import NMF\n",
    "pd.set_option('display.max_columns', 500)"
   ]
  },
  {
   "cell_type": "code",
   "execution_count": 2,
   "metadata": {
    "_cell_guid": "79c7e3d0-c299-4dcb-8224-4455121ee9b0",
    "_uuid": "d629ff2d2480ee46fbb7e2d37f6b5fab8052498a",
    "execution": {
     "iopub.execute_input": "2020-08-29T18:01:25.297737Z",
     "iopub.status.busy": "2020-08-29T18:01:25.296904Z",
     "iopub.status.idle": "2020-08-29T18:01:25.299184Z",
     "shell.execute_reply": "2020-08-29T18:01:25.299634Z"
    },
    "papermill": {
     "duration": 0.027793,
     "end_time": "2020-08-29T18:01:25.299781",
     "exception": false,
     "start_time": "2020-08-29T18:01:25.271988",
     "status": "completed"
    },
    "tags": []
   },
   "outputs": [],
   "source": [
    "def reduce_mem_usage(df, verbose=True):\n",
    "    numerics = ['int16', 'int32', 'int64', 'float16', 'float32', 'float64']\n",
    "    start_mem = df.memory_usage().sum() / 1024**2\n",
    "    for col in tqdm(df.columns):\n",
    "        col_type = df[col].dtypes\n",
    "        if col_type in numerics:\n",
    "            c_min = df[col].min()\n",
    "            c_max = df[col].max()\n",
    "            if str(col_type)[:3] == 'int':\n",
    "                if c_min > np.iinfo(np.int8).min and c_max < np.iinfo(np.int8).max:\n",
    "                    df[col] = df[col].astype(np.int8)\n",
    "                elif c_min > np.iinfo(np.int16).min and c_max < np.iinfo(np.int16).max:\n",
    "                    df[col] = df[col].astype(np.int16)\n",
    "                elif c_min > np.iinfo(np.int32).min and c_max < np.iinfo(np.int32).max:\n",
    "                    df[col] = df[col].astype(np.int32)\n",
    "                elif c_min > np.iinfo(np.int64).min and c_max < np.iinfo(np.int64).max:\n",
    "                    df[col] = df[col].astype(np.int64)\n",
    "            else:\n",
    "                if c_min > np.finfo(np.float16).min and c_max < np.finfo(np.float16).max:\n",
    "                    df[col] = df[col].astype(np.float16)\n",
    "                elif c_min > np.finfo(np.float32).min and c_max < np.finfo(np.float32).max:\n",
    "                    df[col] = df[col].astype(np.float32)\n",
    "                else:\n",
    "                    df[col] = df[col].astype(np.float64)\n",
    "\n",
    "    end_mem = df.memory_usage().sum() / 1024**2\n",
    "    print('Memory usage after optimization is: {:.2f} MB'.format(end_mem))\n",
    "    print('Decreased by {:.1f}%'.format(100 * (start_mem - end_mem) / start_mem))\n",
    "\n",
    "    return df"
   ]
  },
  {
   "cell_type": "code",
   "execution_count": 3,
   "metadata": {
    "execution": {
     "iopub.execute_input": "2020-08-29T18:01:25.323844Z",
     "iopub.status.busy": "2020-08-29T18:01:25.323220Z",
     "iopub.status.idle": "2020-08-29T18:01:25.326280Z",
     "shell.execute_reply": "2020-08-29T18:01:25.325802Z"
    },
    "papermill": {
     "duration": 0.016759,
     "end_time": "2020-08-29T18:01:25.326393",
     "exception": false,
     "start_time": "2020-08-29T18:01:25.309634",
     "status": "completed"
    },
    "tags": []
   },
   "outputs": [],
   "source": [
    "# train_scans = pd.read_pickle('../input/ct-scans-to-dataframe/train_out.pkl')\n",
    "# tmp = train_scans[['Instance','Patient']]\n",
    "# train_scans = pd.get_dummies(train_scans[[x for x in train_scans.columns if x not in ['Instance','Patient']]], drop_first = True)\n",
    "\n",
    "# pca = NMF(n_components=2000)\n",
    "# train_scans = pca.fit_transform(train_scans)"
   ]
  },
  {
   "cell_type": "code",
   "execution_count": 4,
   "metadata": {
    "execution": {
     "iopub.execute_input": "2020-08-29T18:01:25.352599Z",
     "iopub.status.busy": "2020-08-29T18:01:25.351882Z",
     "iopub.status.idle": "2020-08-29T18:01:30.476964Z",
     "shell.execute_reply": "2020-08-29T18:01:30.476242Z"
    },
    "papermill": {
     "duration": 5.140779,
     "end_time": "2020-08-29T18:01:30.477084",
     "exception": false,
     "start_time": "2020-08-29T18:01:25.336305",
     "status": "completed"
    },
    "tags": []
   },
   "outputs": [],
   "source": [
    "train_inf = pd.read_pickle('../input/osic-transform-dicom-into-dataframe/output_data.pkl')\n",
    "train_scans = pd.read_pickle('../input/ct-scans-to-dataframe/train_out.pkl')\n",
    "\n",
    "test_inf = pd.read_pickle('../input/osic-transform-dicom-into-dataframe/output_data_test.pkl')\n",
    "test_scans  = pd.read_pickle('../input/ct-scans-to-dataframe/test_out.pkl')"
   ]
  },
  {
   "cell_type": "code",
   "execution_count": 5,
   "metadata": {
    "execution": {
     "iopub.execute_input": "2020-08-29T18:01:30.514647Z",
     "iopub.status.busy": "2020-08-29T18:01:30.504279Z",
     "iopub.status.idle": "2020-08-29T18:02:01.970476Z",
     "shell.execute_reply": "2020-08-29T18:02:01.969738Z"
    },
    "papermill": {
     "duration": 31.483496,
     "end_time": "2020-08-29T18:02:01.970603",
     "exception": false,
     "start_time": "2020-08-29T18:01:30.487107",
     "status": "completed"
    },
    "tags": []
   },
   "outputs": [],
   "source": [
    "train_scans.columns = train_scans.columns.astype(np.str)\n",
    "pca = PCA(n_components=200)\n",
    "new_pixels = pca.fit_transform(train_scans.loc[:, '0': '7395'])\n",
    "\n",
    "train_scans.drop(train_scans.loc[:, '0': '7395'].columns, axis = 1, inplace = True)\n",
    "\n",
    "train_scans = pd.merge(train_scans, pd.DataFrame(new_pixels), left_index=True, right_index=True)"
   ]
  },
  {
   "cell_type": "code",
   "execution_count": 6,
   "metadata": {
    "execution": {
     "iopub.execute_input": "2020-08-29T18:02:02.002719Z",
     "iopub.status.busy": "2020-08-29T18:02:02.001991Z",
     "iopub.status.idle": "2020-08-29T18:02:03.019607Z",
     "shell.execute_reply": "2020-08-29T18:02:03.020246Z"
    },
    "papermill": {
     "duration": 1.03937,
     "end_time": "2020-08-29T18:02:03.020420",
     "exception": false,
     "start_time": "2020-08-29T18:02:01.981050",
     "status": "completed"
    },
    "tags": []
   },
   "outputs": [],
   "source": [
    "test_scans.columns = test_scans.columns.astype(np.str)\n",
    "pca = PCA(n_components=200)\n",
    "new_pixels = pca.fit_transform(test_scans.loc[:, '0': '7395'])\n",
    "\n",
    "test_scans.drop(test_scans.loc[:, '0': '7395'].columns, axis = 1, inplace = True)\n",
    "\n",
    "test_scans = pd.merge(test_scans, pd.DataFrame(new_pixels), left_index=True, right_index=True)"
   ]
  },
  {
   "cell_type": "code",
   "execution_count": 7,
   "metadata": {
    "execution": {
     "iopub.execute_input": "2020-08-29T18:02:03.053672Z",
     "iopub.status.busy": "2020-08-29T18:02:03.052265Z",
     "iopub.status.idle": "2020-08-29T18:02:03.487551Z",
     "shell.execute_reply": "2020-08-29T18:02:03.486851Z"
    },
    "papermill": {
     "duration": 0.453899,
     "end_time": "2020-08-29T18:02:03.487672",
     "exception": false,
     "start_time": "2020-08-29T18:02:03.033773",
     "status": "completed"
    },
    "tags": []
   },
   "outputs": [],
   "source": [
    "col_to_drop = ['Modality', 'ImageType', 'SOPInstanceUID', 'PatientName', 'PatientID', 'PatientSex', 'DeidentificationMethod', 'BodyPartExamined'\n",
    "              ,'GantryDetectorTilt', 'RotationDirection','StudyInstanceUID', 'SeriesInstanceUID', 'StudyID', 'ImagePositionPatient'\n",
    "              , 'ImageOrientationPatient', 'FrameOfReferenceUID', 'SamplesPerPixel', 'PhotometricInterpretation', 'PixelSpacing', 'BitsAllocated'\n",
    "              , 'RescaleSlope'\n",
    "#               , 'Patient'\n",
    "              ]\n",
    "train_inf = train_inf[[x for x in train_inf.columns if x not in col_to_drop]]\n",
    "test_inf = test_inf[[x for x in test_inf.columns if x not in col_to_drop]]"
   ]
  },
  {
   "cell_type": "code",
   "execution_count": 8,
   "metadata": {
    "execution": {
     "iopub.execute_input": "2020-08-29T18:02:03.539651Z",
     "iopub.status.busy": "2020-08-29T18:02:03.538429Z",
     "iopub.status.idle": "2020-08-29T18:02:05.187287Z",
     "shell.execute_reply": "2020-08-29T18:02:05.186653Z"
    },
    "papermill": {
     "duration": 1.689294,
     "end_time": "2020-08-29T18:02:05.187400",
     "exception": false,
     "start_time": "2020-08-29T18:02:03.498106",
     "status": "completed"
    },
    "tags": []
   },
   "outputs": [],
   "source": [
    "train_inf.loc[train_inf.ManufacturerModelName == '','ManufacturerModelName'] = 'unk'\n",
    "train_inf.SliceThickness = train_inf.SliceThickness.astype('float')\n",
    "train_inf.KVP = train_inf.KVP.astype('float')\n",
    "train_inf.SpacingBetweenSlices = train_inf.SpacingBetweenSlices.astype('float')\n",
    "train_inf.TableHeight = train_inf.TableHeight.astype('float')\n",
    "train_inf.XRayTubeCurrent = train_inf.XRayTubeCurrent.astype('int')\n",
    "train_inf.InstanceNumber = train_inf.InstanceNumber.astype('int')\n",
    "train_inf.loc[train_inf.PositionReferenceIndicator == '','PositionReferenceIndicator'] = 'unk'\n",
    "train_inf.SliceLocation = train_inf.SliceLocation.astype('float')\n",
    "train_inf.Rows = train_inf.Rows.astype('int')\n",
    "train_inf.Columns = train_inf.Columns.astype('int')\n",
    "train_inf.BitsStored = train_inf.BitsStored.astype('int')\n",
    "train_inf.HighBit = train_inf.HighBit.astype('int')\n",
    "train_inf.loc[train_inf.WindowCenter == '[-500, 40]','WindowCenter'] = '-500'\n",
    "train_inf.loc[train_inf.WindowCenter == '-500.0','WindowCenter'] = '-500'\n",
    "train_inf.WindowCenter = train_inf.WindowCenter.astype('int')\n",
    "train_inf.loc[train_inf.WindowWidth == '[1500, 350]','WindowWidth'] = '1500'\n",
    "train_inf.loc[train_inf.WindowWidth == '-1500.0','WindowWidth'] = '-1500'\n",
    "train_inf.WindowWidth = train_inf.WindowWidth.astype('int')\n",
    "train_inf.loc[train_inf.RescaleIntercept == '0.','RescaleIntercept'] = '0'\n",
    "train_inf.loc[train_inf.RescaleIntercept == '-1024.','RescaleIntercept'] = '-1024'\n",
    "train_inf.loc[train_inf.RescaleIntercept == '-1024.0','RescaleIntercept'] = '-1024'\n",
    "train_inf.RescaleIntercept = train_inf.RescaleIntercept.astype('int')"
   ]
  },
  {
   "cell_type": "code",
   "execution_count": 9,
   "metadata": {
    "execution": {
     "iopub.execute_input": "2020-08-29T18:02:05.232465Z",
     "iopub.status.busy": "2020-08-29T18:02:05.231762Z",
     "iopub.status.idle": "2020-08-29T18:02:06.091208Z",
     "shell.execute_reply": "2020-08-29T18:02:06.090543Z"
    },
    "papermill": {
     "duration": 0.893379,
     "end_time": "2020-08-29T18:02:06.091325",
     "exception": false,
     "start_time": "2020-08-29T18:02:05.197946",
     "status": "completed"
    },
    "tags": []
   },
   "outputs": [],
   "source": [
    "test_inf.loc[test_inf.ManufacturerModelName == '','ManufacturerModelName'] = 'unk'\n",
    "test_inf.SliceThickness = test_inf.SliceThickness.astype('float')\n",
    "test_inf.KVP = test_inf.KVP.astype('float')\n",
    "test_inf.SpacingBetweenSlices = test_inf.SpacingBetweenSlices.astype('float')\n",
    "test_inf.TableHeight = test_inf.TableHeight.astype('float')\n",
    "test_inf.XRayTubeCurrent = test_inf.XRayTubeCurrent.astype('int')\n",
    "test_inf.InstanceNumber = test_inf.InstanceNumber.astype('int')\n",
    "test_inf.loc[test_inf.PositionReferenceIndicator == '','PositionReferenceIndicator'] = 'unk'\n",
    "test_inf.SliceLocation = test_inf.SliceLocation.astype('float')\n",
    "test_inf.Rows = test_inf.Rows.astype('int')\n",
    "test_inf.Columns = test_inf.Columns.astype('int')\n",
    "test_inf.BitsStored = test_inf.BitsStored.astype('int')\n",
    "test_inf.HighBit = test_inf.HighBit.astype('int')\n",
    "test_inf.loc[test_inf.WindowCenter == '[-500, 40]','WindowCenter'] = '-500'\n",
    "test_inf.loc[test_inf.WindowCenter == '-500.0','WindowCenter'] = '-500'\n",
    "test_inf.WindowCenter = test_inf.WindowCenter.astype('int')\n",
    "test_inf.loc[test_inf.WindowWidth == '[1500, 350]','WindowWidth'] = '1500'\n",
    "test_inf.loc[test_inf.WindowWidth == '-1500.0','WindowWidth'] = '-1500'\n",
    "test_inf.WindowWidth = test_inf.WindowWidth.astype('int')\n",
    "test_inf.loc[test_inf.RescaleIntercept == '0.','RescaleIntercept'] = '0'\n",
    "test_inf.loc[test_inf.RescaleIntercept == '-1024.','RescaleIntercept'] = '-1024'\n",
    "test_inf.loc[test_inf.RescaleIntercept == '-1024.0','RescaleIntercept'] = '-1024'\n",
    "test_inf.RescaleIntercept = test_inf.RescaleIntercept.astype('int')"
   ]
  },
  {
   "cell_type": "code",
   "execution_count": 10,
   "metadata": {
    "execution": {
     "iopub.execute_input": "2020-08-29T18:02:06.121367Z",
     "iopub.status.busy": "2020-08-29T18:02:06.120463Z",
     "iopub.status.idle": "2020-08-29T18:02:07.129393Z",
     "shell.execute_reply": "2020-08-29T18:02:07.127751Z"
    },
    "papermill": {
     "duration": 1.027637,
     "end_time": "2020-08-29T18:02:07.129560",
     "exception": false,
     "start_time": "2020-08-29T18:02:06.101923",
     "status": "completed"
    },
    "tags": []
   },
   "outputs": [
    {
     "data": {
      "application/vnd.jupyter.widget-view+json": {
       "model_id": "d95f658bcd2446b8871ea1367cc1b09e",
       "version_major": 2,
       "version_minor": 0
      },
      "text/plain": [
       "HBox(children=(FloatProgress(value=0.0, max=58.0), HTML(value='')))"
      ]
     },
     "metadata": {},
     "output_type": "display_data"
    },
    {
     "name": "stdout",
     "output_type": "stream",
     "text": [
      "\n",
      "Memory usage after optimization is: 48.37 MB\n",
      "Decreased by 62.9%\n"
     ]
    },
    {
     "data": {
      "application/vnd.jupyter.widget-view+json": {
       "model_id": "e7edee8dd0dc41fe97163894a41457dc",
       "version_major": 2,
       "version_minor": 0
      },
      "text/plain": [
       "HBox(children=(FloatProgress(value=0.0, max=59.0), HTML(value='')))"
      ]
     },
     "metadata": {},
     "output_type": "display_data"
    },
    {
     "name": "stdout",
     "output_type": "stream",
     "text": [
      "\n",
      "Memory usage after optimization is: 32.13 MB\n",
      "Decreased by 61.9%\n"
     ]
    }
   ],
   "source": [
    "train_inf = reduce_mem_usage(train_inf)\n",
    "test_inf = reduce_mem_usage(test_inf)"
   ]
  },
  {
   "cell_type": "code",
   "execution_count": 11,
   "metadata": {
    "execution": {
     "iopub.execute_input": "2020-08-29T18:02:07.164890Z",
     "iopub.status.busy": "2020-08-29T18:02:07.163307Z",
     "iopub.status.idle": "2020-08-29T18:02:07.707841Z",
     "shell.execute_reply": "2020-08-29T18:02:07.707148Z"
    },
    "papermill": {
     "duration": 0.565406,
     "end_time": "2020-08-29T18:02:07.707960",
     "exception": false,
     "start_time": "2020-08-29T18:02:07.142554",
     "status": "completed"
    },
    "tags": []
   },
   "outputs": [],
   "source": [
    "train_final = train_inf.merge(train_scans, left_on=['Patient', 'InstanceNumber'], right_on=['Patient', 'Instance'])"
   ]
  },
  {
   "cell_type": "code",
   "execution_count": 12,
   "metadata": {
    "execution": {
     "iopub.execute_input": "2020-08-29T18:02:07.747649Z",
     "iopub.status.busy": "2020-08-29T18:02:07.737771Z",
     "iopub.status.idle": "2020-08-29T18:02:07.756008Z",
     "shell.execute_reply": "2020-08-29T18:02:07.755176Z"
    },
    "papermill": {
     "duration": 0.034983,
     "end_time": "2020-08-29T18:02:07.756130",
     "exception": false,
     "start_time": "2020-08-29T18:02:07.721147",
     "status": "completed"
    },
    "tags": []
   },
   "outputs": [
    {
     "name": "stdout",
     "output_type": "stream",
     "text": [
      "<class 'pandas.core.frame.DataFrame'>\n",
      "Int64Index: 289826 entries, 0 to 289825\n",
      "Columns: 259 entries, Manufacturer to 199\n",
      "dtypes: float16(37), float64(200), int16(9), int64(1), int8(3), object(9)\n",
      "memory usage: 492.8+ MB\n"
     ]
    }
   ],
   "source": [
    "train_final.info()"
   ]
  },
  {
   "cell_type": "code",
   "execution_count": 13,
   "metadata": {
    "execution": {
     "iopub.execute_input": "2020-08-29T18:02:07.787114Z",
     "iopub.status.busy": "2020-08-29T18:02:07.786478Z",
     "iopub.status.idle": "2020-08-29T18:02:09.335331Z",
     "shell.execute_reply": "2020-08-29T18:02:09.334712Z"
    },
    "papermill": {
     "duration": 1.566811,
     "end_time": "2020-08-29T18:02:09.335488",
     "exception": false,
     "start_time": "2020-08-29T18:02:07.768677",
     "status": "completed"
    },
    "tags": []
   },
   "outputs": [],
   "source": [
    "train_final.drop('InstanceNumber', axis = 1, inplace = True)\n",
    "train_final.to_pickle(\"train_final.pkl\")"
   ]
  },
  {
   "cell_type": "code",
   "execution_count": 14,
   "metadata": {
    "execution": {
     "iopub.execute_input": "2020-08-29T18:02:09.367502Z",
     "iopub.status.busy": "2020-08-29T18:02:09.366352Z",
     "iopub.status.idle": "2020-08-29T18:02:09.726946Z",
     "shell.execute_reply": "2020-08-29T18:02:09.726341Z"
    },
    "papermill": {
     "duration": 0.378529,
     "end_time": "2020-08-29T18:02:09.727067",
     "exception": false,
     "start_time": "2020-08-29T18:02:09.348538",
     "status": "completed"
    },
    "tags": []
   },
   "outputs": [],
   "source": [
    "test_final = test_inf.merge(test_scans, left_on=['Patient', 'InstanceNumber'], right_on=['Patient', 'Instance'])"
   ]
  },
  {
   "cell_type": "code",
   "execution_count": 15,
   "metadata": {
    "execution": {
     "iopub.execute_input": "2020-08-29T18:02:09.758975Z",
     "iopub.status.busy": "2020-08-29T18:02:09.758283Z",
     "iopub.status.idle": "2020-08-29T18:02:09.830432Z",
     "shell.execute_reply": "2020-08-29T18:02:09.829766Z"
    },
    "papermill": {
     "duration": 0.090633,
     "end_time": "2020-08-29T18:02:09.830571",
     "exception": false,
     "start_time": "2020-08-29T18:02:09.739938",
     "status": "completed"
    },
    "tags": []
   },
   "outputs": [
    {
     "name": "stdout",
     "output_type": "stream",
     "text": [
      "<class 'pandas.core.frame.DataFrame'>\n",
      "Int64Index: 184106 entries, 0 to 184105\n",
      "Columns: 260 entries, Manufacturer to 199\n",
      "dtypes: float16(36), float64(200), int16(8), int64(3), int8(3), object(10)\n",
      "memory usage: 316.6+ MB\n"
     ]
    }
   ],
   "source": [
    "test_final[['FVC','Percent']] = -1\n",
    "test_final.info()"
   ]
  },
  {
   "cell_type": "code",
   "execution_count": 16,
   "metadata": {
    "execution": {
     "iopub.execute_input": "2020-08-29T18:02:09.863749Z",
     "iopub.status.busy": "2020-08-29T18:02:09.863116Z",
     "iopub.status.idle": "2020-08-29T18:02:10.798807Z",
     "shell.execute_reply": "2020-08-29T18:02:10.798225Z"
    },
    "papermill": {
     "duration": 0.954429,
     "end_time": "2020-08-29T18:02:10.798947",
     "exception": false,
     "start_time": "2020-08-29T18:02:09.844518",
     "status": "completed"
    },
    "tags": []
   },
   "outputs": [],
   "source": [
    "test_final.drop('InstanceNumber', axis = 1, inplace = True)\n",
    "test_final.to_pickle(\"test_final.pkl\")"
   ]
  }
 ],
 "metadata": {
  "kernelspec": {
   "display_name": "Python 3",
   "language": "python",
   "name": "python3"
  },
  "language_info": {
   "codemirror_mode": {
    "name": "ipython",
    "version": 3
   },
   "file_extension": ".py",
   "mimetype": "text/x-python",
   "name": "python",
   "nbconvert_exporter": "python",
   "pygments_lexer": "ipython3",
   "version": "3.7.6"
  },
  "papermill": {
   "duration": 51.090807,
   "end_time": "2020-08-29T18:02:10.920562",
   "environment_variables": {},
   "exception": null,
   "input_path": "__notebook__.ipynb",
   "output_path": "__notebook__.ipynb",
   "parameters": {},
   "start_time": "2020-08-29T18:01:19.829755",
   "version": "2.1.0"
  },
  "widgets": {
   "application/vnd.jupyter.widget-state+json": {
    "state": {
     "036b86d5e6e3431a87cf73f5be03059a": {
      "model_module": "@jupyter-widgets/base",
      "model_module_version": "1.2.0",
      "model_name": "LayoutModel",
      "state": {
       "_model_module": "@jupyter-widgets/base",
       "_model_module_version": "1.2.0",
       "_model_name": "LayoutModel",
       "_view_count": null,
       "_view_module": "@jupyter-widgets/base",
       "_view_module_version": "1.2.0",
       "_view_name": "LayoutView",
       "align_content": null,
       "align_items": null,
       "align_self": null,
       "border": null,
       "bottom": null,
       "display": null,
       "flex": null,
       "flex_flow": null,
       "grid_area": null,
       "grid_auto_columns": null,
       "grid_auto_flow": null,
       "grid_auto_rows": null,
       "grid_column": null,
       "grid_gap": null,
       "grid_row": null,
       "grid_template_areas": null,
       "grid_template_columns": null,
       "grid_template_rows": null,
       "height": null,
       "justify_content": null,
       "justify_items": null,
       "left": null,
       "margin": null,
       "max_height": null,
       "max_width": null,
       "min_height": null,
       "min_width": null,
       "object_fit": null,
       "object_position": null,
       "order": null,
       "overflow": null,
       "overflow_x": null,
       "overflow_y": null,
       "padding": null,
       "right": null,
       "top": null,
       "visibility": null,
       "width": null
      }
     },
     "07b51c3a6b6b4c4686f65399134e8ac6": {
      "model_module": "@jupyter-widgets/base",
      "model_module_version": "1.2.0",
      "model_name": "LayoutModel",
      "state": {
       "_model_module": "@jupyter-widgets/base",
       "_model_module_version": "1.2.0",
       "_model_name": "LayoutModel",
       "_view_count": null,
       "_view_module": "@jupyter-widgets/base",
       "_view_module_version": "1.2.0",
       "_view_name": "LayoutView",
       "align_content": null,
       "align_items": null,
       "align_self": null,
       "border": null,
       "bottom": null,
       "display": null,
       "flex": null,
       "flex_flow": null,
       "grid_area": null,
       "grid_auto_columns": null,
       "grid_auto_flow": null,
       "grid_auto_rows": null,
       "grid_column": null,
       "grid_gap": null,
       "grid_row": null,
       "grid_template_areas": null,
       "grid_template_columns": null,
       "grid_template_rows": null,
       "height": null,
       "justify_content": null,
       "justify_items": null,
       "left": null,
       "margin": null,
       "max_height": null,
       "max_width": null,
       "min_height": null,
       "min_width": null,
       "object_fit": null,
       "object_position": null,
       "order": null,
       "overflow": null,
       "overflow_x": null,
       "overflow_y": null,
       "padding": null,
       "right": null,
       "top": null,
       "visibility": null,
       "width": null
      }
     },
     "0f39f4e3bdff4d3488ea181b4994fe57": {
      "model_module": "@jupyter-widgets/controls",
      "model_module_version": "1.5.0",
      "model_name": "FloatProgressModel",
      "state": {
       "_dom_classes": [],
       "_model_module": "@jupyter-widgets/controls",
       "_model_module_version": "1.5.0",
       "_model_name": "FloatProgressModel",
       "_view_count": null,
       "_view_module": "@jupyter-widgets/controls",
       "_view_module_version": "1.5.0",
       "_view_name": "ProgressView",
       "bar_style": "success",
       "description": "100%",
       "description_tooltip": null,
       "layout": "IPY_MODEL_07b51c3a6b6b4c4686f65399134e8ac6",
       "max": 58.0,
       "min": 0.0,
       "orientation": "horizontal",
       "style": "IPY_MODEL_fbaeac87a6af484195c4b146c0382488",
       "value": 58.0
      }
     },
     "33327af6c14545278f10fd04ae433614": {
      "model_module": "@jupyter-widgets/controls",
      "model_module_version": "1.5.0",
      "model_name": "FloatProgressModel",
      "state": {
       "_dom_classes": [],
       "_model_module": "@jupyter-widgets/controls",
       "_model_module_version": "1.5.0",
       "_model_name": "FloatProgressModel",
       "_view_count": null,
       "_view_module": "@jupyter-widgets/controls",
       "_view_module_version": "1.5.0",
       "_view_name": "ProgressView",
       "bar_style": "success",
       "description": "100%",
       "description_tooltip": null,
       "layout": "IPY_MODEL_fc2903663a19468cb15aaa3ea2297856",
       "max": 59.0,
       "min": 0.0,
       "orientation": "horizontal",
       "style": "IPY_MODEL_ca8e36b9839f4c31b4f2a14250482b29",
       "value": 59.0
      }
     },
     "411c32d60e2b49aea8b84ef506124cc9": {
      "model_module": "@jupyter-widgets/base",
      "model_module_version": "1.2.0",
      "model_name": "LayoutModel",
      "state": {
       "_model_module": "@jupyter-widgets/base",
       "_model_module_version": "1.2.0",
       "_model_name": "LayoutModel",
       "_view_count": null,
       "_view_module": "@jupyter-widgets/base",
       "_view_module_version": "1.2.0",
       "_view_name": "LayoutView",
       "align_content": null,
       "align_items": null,
       "align_self": null,
       "border": null,
       "bottom": null,
       "display": null,
       "flex": null,
       "flex_flow": null,
       "grid_area": null,
       "grid_auto_columns": null,
       "grid_auto_flow": null,
       "grid_auto_rows": null,
       "grid_column": null,
       "grid_gap": null,
       "grid_row": null,
       "grid_template_areas": null,
       "grid_template_columns": null,
       "grid_template_rows": null,
       "height": null,
       "justify_content": null,
       "justify_items": null,
       "left": null,
       "margin": null,
       "max_height": null,
       "max_width": null,
       "min_height": null,
       "min_width": null,
       "object_fit": null,
       "object_position": null,
       "order": null,
       "overflow": null,
       "overflow_x": null,
       "overflow_y": null,
       "padding": null,
       "right": null,
       "top": null,
       "visibility": null,
       "width": null
      }
     },
     "461c675bb3b145738a5e6005fc27b569": {
      "model_module": "@jupyter-widgets/base",
      "model_module_version": "1.2.0",
      "model_name": "LayoutModel",
      "state": {
       "_model_module": "@jupyter-widgets/base",
       "_model_module_version": "1.2.0",
       "_model_name": "LayoutModel",
       "_view_count": null,
       "_view_module": "@jupyter-widgets/base",
       "_view_module_version": "1.2.0",
       "_view_name": "LayoutView",
       "align_content": null,
       "align_items": null,
       "align_self": null,
       "border": null,
       "bottom": null,
       "display": null,
       "flex": null,
       "flex_flow": null,
       "grid_area": null,
       "grid_auto_columns": null,
       "grid_auto_flow": null,
       "grid_auto_rows": null,
       "grid_column": null,
       "grid_gap": null,
       "grid_row": null,
       "grid_template_areas": null,
       "grid_template_columns": null,
       "grid_template_rows": null,
       "height": null,
       "justify_content": null,
       "justify_items": null,
       "left": null,
       "margin": null,
       "max_height": null,
       "max_width": null,
       "min_height": null,
       "min_width": null,
       "object_fit": null,
       "object_position": null,
       "order": null,
       "overflow": null,
       "overflow_x": null,
       "overflow_y": null,
       "padding": null,
       "right": null,
       "top": null,
       "visibility": null,
       "width": null
      }
     },
     "60895449606a4a44b2177eb9d6ed5cca": {
      "model_module": "@jupyter-widgets/controls",
      "model_module_version": "1.5.0",
      "model_name": "DescriptionStyleModel",
      "state": {
       "_model_module": "@jupyter-widgets/controls",
       "_model_module_version": "1.5.0",
       "_model_name": "DescriptionStyleModel",
       "_view_count": null,
       "_view_module": "@jupyter-widgets/base",
       "_view_module_version": "1.2.0",
       "_view_name": "StyleView",
       "description_width": ""
      }
     },
     "9ef2dddae6c64788a84a0211f7167e15": {
      "model_module": "@jupyter-widgets/controls",
      "model_module_version": "1.5.0",
      "model_name": "DescriptionStyleModel",
      "state": {
       "_model_module": "@jupyter-widgets/controls",
       "_model_module_version": "1.5.0",
       "_model_name": "DescriptionStyleModel",
       "_view_count": null,
       "_view_module": "@jupyter-widgets/base",
       "_view_module_version": "1.2.0",
       "_view_name": "StyleView",
       "description_width": ""
      }
     },
     "a214956a98b343178b78c232eef438d5": {
      "model_module": "@jupyter-widgets/controls",
      "model_module_version": "1.5.0",
      "model_name": "HTMLModel",
      "state": {
       "_dom_classes": [],
       "_model_module": "@jupyter-widgets/controls",
       "_model_module_version": "1.5.0",
       "_model_name": "HTMLModel",
       "_view_count": null,
       "_view_module": "@jupyter-widgets/controls",
       "_view_module_version": "1.5.0",
       "_view_name": "HTMLView",
       "description": "",
       "description_tooltip": null,
       "layout": "IPY_MODEL_036b86d5e6e3431a87cf73f5be03059a",
       "placeholder": "​",
       "style": "IPY_MODEL_60895449606a4a44b2177eb9d6ed5cca",
       "value": " 58/58 [00:00&lt;00:00, 94.85it/s]"
      }
     },
     "c0486a75a8484eb88944b82ef873884d": {
      "model_module": "@jupyter-widgets/controls",
      "model_module_version": "1.5.0",
      "model_name": "HTMLModel",
      "state": {
       "_dom_classes": [],
       "_model_module": "@jupyter-widgets/controls",
       "_model_module_version": "1.5.0",
       "_model_name": "HTMLModel",
       "_view_count": null,
       "_view_module": "@jupyter-widgets/controls",
       "_view_module_version": "1.5.0",
       "_view_name": "HTMLView",
       "description": "",
       "description_tooltip": null,
       "layout": "IPY_MODEL_461c675bb3b145738a5e6005fc27b569",
       "placeholder": "​",
       "style": "IPY_MODEL_9ef2dddae6c64788a84a0211f7167e15",
       "value": " 59/59 [00:00&lt;00:00, 139.86it/s]"
      }
     },
     "ca8e36b9839f4c31b4f2a14250482b29": {
      "model_module": "@jupyter-widgets/controls",
      "model_module_version": "1.5.0",
      "model_name": "ProgressStyleModel",
      "state": {
       "_model_module": "@jupyter-widgets/controls",
       "_model_module_version": "1.5.0",
       "_model_name": "ProgressStyleModel",
       "_view_count": null,
       "_view_module": "@jupyter-widgets/base",
       "_view_module_version": "1.2.0",
       "_view_name": "StyleView",
       "bar_color": null,
       "description_width": "initial"
      }
     },
     "d95f658bcd2446b8871ea1367cc1b09e": {
      "model_module": "@jupyter-widgets/controls",
      "model_module_version": "1.5.0",
      "model_name": "HBoxModel",
      "state": {
       "_dom_classes": [],
       "_model_module": "@jupyter-widgets/controls",
       "_model_module_version": "1.5.0",
       "_model_name": "HBoxModel",
       "_view_count": null,
       "_view_module": "@jupyter-widgets/controls",
       "_view_module_version": "1.5.0",
       "_view_name": "HBoxView",
       "box_style": "",
       "children": [
        "IPY_MODEL_0f39f4e3bdff4d3488ea181b4994fe57",
        "IPY_MODEL_a214956a98b343178b78c232eef438d5"
       ],
       "layout": "IPY_MODEL_ed8289ec75dd4a91a83c67d798ad5b46"
      }
     },
     "e7edee8dd0dc41fe97163894a41457dc": {
      "model_module": "@jupyter-widgets/controls",
      "model_module_version": "1.5.0",
      "model_name": "HBoxModel",
      "state": {
       "_dom_classes": [],
       "_model_module": "@jupyter-widgets/controls",
       "_model_module_version": "1.5.0",
       "_model_name": "HBoxModel",
       "_view_count": null,
       "_view_module": "@jupyter-widgets/controls",
       "_view_module_version": "1.5.0",
       "_view_name": "HBoxView",
       "box_style": "",
       "children": [
        "IPY_MODEL_33327af6c14545278f10fd04ae433614",
        "IPY_MODEL_c0486a75a8484eb88944b82ef873884d"
       ],
       "layout": "IPY_MODEL_411c32d60e2b49aea8b84ef506124cc9"
      }
     },
     "ed8289ec75dd4a91a83c67d798ad5b46": {
      "model_module": "@jupyter-widgets/base",
      "model_module_version": "1.2.0",
      "model_name": "LayoutModel",
      "state": {
       "_model_module": "@jupyter-widgets/base",
       "_model_module_version": "1.2.0",
       "_model_name": "LayoutModel",
       "_view_count": null,
       "_view_module": "@jupyter-widgets/base",
       "_view_module_version": "1.2.0",
       "_view_name": "LayoutView",
       "align_content": null,
       "align_items": null,
       "align_self": null,
       "border": null,
       "bottom": null,
       "display": null,
       "flex": null,
       "flex_flow": null,
       "grid_area": null,
       "grid_auto_columns": null,
       "grid_auto_flow": null,
       "grid_auto_rows": null,
       "grid_column": null,
       "grid_gap": null,
       "grid_row": null,
       "grid_template_areas": null,
       "grid_template_columns": null,
       "grid_template_rows": null,
       "height": null,
       "justify_content": null,
       "justify_items": null,
       "left": null,
       "margin": null,
       "max_height": null,
       "max_width": null,
       "min_height": null,
       "min_width": null,
       "object_fit": null,
       "object_position": null,
       "order": null,
       "overflow": null,
       "overflow_x": null,
       "overflow_y": null,
       "padding": null,
       "right": null,
       "top": null,
       "visibility": null,
       "width": null
      }
     },
     "fbaeac87a6af484195c4b146c0382488": {
      "model_module": "@jupyter-widgets/controls",
      "model_module_version": "1.5.0",
      "model_name": "ProgressStyleModel",
      "state": {
       "_model_module": "@jupyter-widgets/controls",
       "_model_module_version": "1.5.0",
       "_model_name": "ProgressStyleModel",
       "_view_count": null,
       "_view_module": "@jupyter-widgets/base",
       "_view_module_version": "1.2.0",
       "_view_name": "StyleView",
       "bar_color": null,
       "description_width": "initial"
      }
     },
     "fc2903663a19468cb15aaa3ea2297856": {
      "model_module": "@jupyter-widgets/base",
      "model_module_version": "1.2.0",
      "model_name": "LayoutModel",
      "state": {
       "_model_module": "@jupyter-widgets/base",
       "_model_module_version": "1.2.0",
       "_model_name": "LayoutModel",
       "_view_count": null,
       "_view_module": "@jupyter-widgets/base",
       "_view_module_version": "1.2.0",
       "_view_name": "LayoutView",
       "align_content": null,
       "align_items": null,
       "align_self": null,
       "border": null,
       "bottom": null,
       "display": null,
       "flex": null,
       "flex_flow": null,
       "grid_area": null,
       "grid_auto_columns": null,
       "grid_auto_flow": null,
       "grid_auto_rows": null,
       "grid_column": null,
       "grid_gap": null,
       "grid_row": null,
       "grid_template_areas": null,
       "grid_template_columns": null,
       "grid_template_rows": null,
       "height": null,
       "justify_content": null,
       "justify_items": null,
       "left": null,
       "margin": null,
       "max_height": null,
       "max_width": null,
       "min_height": null,
       "min_width": null,
       "object_fit": null,
       "object_position": null,
       "order": null,
       "overflow": null,
       "overflow_x": null,
       "overflow_y": null,
       "padding": null,
       "right": null,
       "top": null,
       "visibility": null,
       "width": null
      }
     }
    },
    "version_major": 2,
    "version_minor": 0
   }
  }
 },
 "nbformat": 4,
 "nbformat_minor": 4
}
